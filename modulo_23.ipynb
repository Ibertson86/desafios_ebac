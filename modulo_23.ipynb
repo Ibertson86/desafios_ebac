{
 "cells": [
  {
   "cell_type": "markdown",
   "metadata": {
    "id": "KJqp9AANOCtf"
   },
   "source": [
    "<img src=\"https://raw.githubusercontent.com/andre-marcos-perez/ebac-course-utils/main/media/logo/newebac_logo_black_half.png\" alt=\"ebac-logo\">\n",
    "\n",
    "---\n",
    "\n",
    "# **Módulo** | Análise de Dados: Aprendizado de Máquina, Regressão\n",
    "**Exercícios**<br> \n",
    "\n",
    "---"
   ]
  },
  {
   "cell_type": "markdown",
   "metadata": {
    "id": "d9jDtUbDOE1-"
   },
   "source": [
    "# **Tópicos**\n",
    "\n",
    "<ol type=\"1\">\n",
    "  <li>Regressão;</li>\n",
    "  <li>Dados;</li>\n",
    "  <li>Treino;</li>\n",
    "  <li>Avaliação;</li>\n",
    "  <li>Predição.</li>\n",
    "</ol>"
   ]
  },
  {
   "cell_type": "markdown",
   "metadata": {
    "id": "SmoHgt-lwkpD"
   },
   "source": [
    "---"
   ]
  },
  {
   "cell_type": "markdown",
   "metadata": {
    "id": "GABI6OW8OfQ2"
   },
   "source": [
    "# **Exercícios**"
   ]
  },
  {
   "cell_type": "markdown",
   "metadata": {
    "id": "kzRDceCvkFj2"
   },
   "source": [
    "## 1\\. Pinguins "
   ]
  },
  {
   "cell_type": "markdown",
   "metadata": {
    "id": "WCQi-s0Hpd5V"
   },
   "source": [
    "Neste exercício, vamos utilizar uma base de dados com informações sobre penguins. A idéia é prever o peso do penguin (**body_mass_g**) baseado em suas características físicas e geográficas (variáveis preditivas)."
   ]
  },
  {
   "cell_type": "code",
   "execution_count": 1,
   "metadata": {
    "executionInfo": {
     "elapsed": 1028,
     "status": "ok",
     "timestamp": 1635413791932,
     "user": {
      "displayName": "André Perez",
      "photoUrl": "https://lh3.googleusercontent.com/a-/AOh14GgoayC-muwENHZsZgJoTefYOOFuinlFq8iuxKVmBQ=s64",
      "userId": "07697752321927912595"
     },
     "user_tz": -120
    },
    "id": "lblH8kIXzPZZ"
   },
   "outputs": [],
   "source": [
    "#importação das bibliotecas necessárias\n",
    "import numpy as np\n",
    "import pandas as pd\n",
    "import seaborn as sns\n",
    "from sklearn.linear_model import LinearRegression\n",
    "from sklearn.metrics import mean_squared_error"
   ]
  },
  {
   "cell_type": "code",
   "execution_count": 2,
   "metadata": {},
   "outputs": [],
   "source": [
    "#Aqui, estamos criando (ou instanciando) um objeto da classe LinearRegression.\n",
    "model = LinearRegression()"
   ]
  },
  {
   "cell_type": "code",
   "execution_count": 3,
   "metadata": {
    "executionInfo": {
     "elapsed": 1045,
     "status": "ok",
     "timestamp": 1635413792973,
     "user": {
      "displayName": "André Perez",
      "photoUrl": "https://lh3.googleusercontent.com/a-/AOh14GgoayC-muwENHZsZgJoTefYOOFuinlFq8iuxKVmBQ=s64",
      "userId": "07697752321927912595"
     },
     "user_tz": -120
    },
    "id": "VR3UdrrQgJ4K"
   },
   "outputs": [],
   "source": [
    "#carregando o dataset penguins através do seaborn\n",
    "penguim = sns.load_dataset('penguins')"
   ]
  },
  {
   "cell_type": "code",
   "execution_count": null,
   "metadata": {
    "colab": {
     "base_uri": "https://localhost:8080/",
     "height": 201
    },
    "executionInfo": {
     "elapsed": 14,
     "status": "ok",
     "timestamp": 1635413792974,
     "user": {
      "displayName": "André Perez",
      "photoUrl": "https://lh3.googleusercontent.com/a-/AOh14GgoayC-muwENHZsZgJoTefYOOFuinlFq8iuxKVmBQ=s64",
      "userId": "07697752321927912595"
     },
     "user_tz": -120
    },
    "id": "znk9Z9TLgTGP",
    "outputId": "2ff9ba71-0e5b-40ca-d4d0-d600ef87dd86"
   },
   "outputs": [],
   "source": [
    "penguim.info()"
   ]
  },
  {
   "cell_type": "markdown",
   "metadata": {
    "id": "dYTwDjt1Jnn0"
   },
   "source": [
    "### **1.1. Análise exploratória** "
   ]
  },
  {
   "cell_type": "markdown",
   "metadata": {
    "id": "QHA3Z9E9LHbK"
   },
   "source": [
    "Utilize os gráficos abaixo para entender melhor a relação entre os atributos e variável resposta da base de dados. Comente o que observou em cada gráfico."
   ]
  },
  {
   "cell_type": "markdown",
   "metadata": {
    "id": "PQWtF5piLYTl"
   },
   "source": [
    " - Atributos por sexo:"
   ]
  },
  {
   "cell_type": "code",
   "execution_count": null,
   "metadata": {
    "colab": {
     "base_uri": "https://localhost:8080/",
     "height": 725
    },
    "executionInfo": {
     "elapsed": 10977,
     "status": "ok",
     "timestamp": 1635413803943,
     "user": {
      "displayName": "André Perez",
      "photoUrl": "https://lh3.googleusercontent.com/a-/AOh14GgoayC-muwENHZsZgJoTefYOOFuinlFq8iuxKVmBQ=s64",
      "userId": "07697752321927912595"
     },
     "user_tz": -120
    },
    "id": "Hf6ekDf1JkNN",
    "outputId": "c5d6a67c-2ee1-48e7-ba3f-4140c6f90334"
   },
   "outputs": [],
   "source": [
    "with sns.axes_style('whitegrid'):\n",
    "\n",
    "  grafico = sns.pairplot(data=penguim, hue=\"sex\", palette=\"pastel\")"
   ]
  },
  {
   "cell_type": "markdown",
   "metadata": {
    "id": "UQzY1c1XLhNA"
   },
   "source": [
    "**Comentário:** \n",
    "\n",
    "Conforme enunciado, o peso do pinguim é a variável resposta. Então, em relação ao sexo, verificamos pelo gráfico acima que existe uma correlação entre o tamanho do bico em milímetros (bill_length_mm) e o peso do pinguim em gramas (body_mass_g). Pinguins fêmeas com bico mais curto têm um peso menor, enquanto que os pinguins machos possuem um comprimento maior do bico e, consequentemente, um maior peso. Assim como os pinguins machos possuem um maior comprimento das nadadeiras em milímetros(flipper_length_mm)."
   ]
  },
  {
   "cell_type": "markdown",
   "metadata": {
    "id": "yC-icRgGLc5Y"
   },
   "source": [
    " - Atributos por espécie:"
   ]
  },
  {
   "cell_type": "code",
   "execution_count": null,
   "metadata": {
    "colab": {
     "base_uri": "https://localhost:8080/",
     "height": 725
    },
    "executionInfo": {
     "elapsed": 10525,
     "status": "ok",
     "timestamp": 1635413814462,
     "user": {
      "displayName": "André Perez",
      "photoUrl": "https://lh3.googleusercontent.com/a-/AOh14GgoayC-muwENHZsZgJoTefYOOFuinlFq8iuxKVmBQ=s64",
      "userId": "07697752321927912595"
     },
     "user_tz": -120
    },
    "id": "QqSoe19oJjS8",
    "outputId": "b0b187bb-20e6-4c74-dbb8-d21ec104367e"
   },
   "outputs": [],
   "source": [
    "with sns.axes_style('whitegrid'):\n",
    "\n",
    "  grafico = sns.pairplot(data=penguim, hue=\"species\", palette=\"pastel\")"
   ]
  },
  {
   "cell_type": "markdown",
   "metadata": {
    "id": "svcb1xFfLrc3"
   },
   "source": [
    "**Comentário:** \n",
    "\n",
    "Em relação à espécie, pinguins da espécie Adelie têm um comprimento do bico menor em milímetros (até aproximadamente 45 mm) e um menor peso. Os da espécie Gentoo possuem um comprimento de bico entre 43 a 60 mm e são os mais pesados das espécies em estudo, seguidos pelos da espécie Chinstrap. Em relação à altura do bico, os Adelie possuem uma curvatura maior e os Gentoo possuem uma curvatura menor. Já quanto às nadadeiras, os Gentoo também possuem as maiores no grupo."
   ]
  },
  {
   "cell_type": "markdown",
   "metadata": {
    "id": "xQV5iyQwLfAl"
   },
   "source": [
    " - Atributos por ilha:"
   ]
  },
  {
   "cell_type": "code",
   "execution_count": null,
   "metadata": {
    "colab": {
     "base_uri": "https://localhost:8080/",
     "height": 725
    },
    "executionInfo": {
     "elapsed": 10944,
     "status": "ok",
     "timestamp": 1635413825400,
     "user": {
      "displayName": "André Perez",
      "photoUrl": "https://lh3.googleusercontent.com/a-/AOh14GgoayC-muwENHZsZgJoTefYOOFuinlFq8iuxKVmBQ=s64",
      "userId": "07697752321927912595"
     },
     "user_tz": -120
    },
    "id": "z5CgljQEJOB5",
    "outputId": "f801e8c2-bb6b-41ad-8434-ed23f73da8ab"
   },
   "outputs": [],
   "source": [
    "with sns.axes_style('whitegrid'):\n",
    "\n",
    "  grafico = sns.pairplot(data=penguim, hue=\"island\", palette=\"pastel\")"
   ]
  },
  {
   "cell_type": "markdown",
   "metadata": {
    "id": "NjtgybmILsrE"
   },
   "source": [
    "**Comentário:** \n",
    "\n",
    "Quanto à localidade, os pinguins da ilha Biscoe são os mais pesados, possuindo um maior comprimento e uma menor curvatura do bico e nadadeiras maiores. Os mais leves são os localizados nas ilhas Torgersen, na Antártida."
   ]
  },
  {
   "cell_type": "markdown",
   "metadata": {
    "id": "RDQqSdrWHY78"
   },
   "source": [
    "## 2\\. Dados "
   ]
  },
  {
   "cell_type": "markdown",
   "metadata": {
    "id": "HrTLgE0tki6P"
   },
   "source": [
    "### **2.1. Valores nulos** "
   ]
  },
  {
   "cell_type": "markdown",
   "metadata": {
    "id": "8JmRsG6K8SPd"
   },
   "source": [
    "A base de dados possui valores faltantes, utilize os conceitos da aula para trata-los."
   ]
  },
  {
   "cell_type": "code",
   "execution_count": 8,
   "metadata": {},
   "outputs": [],
   "source": [
    "#conforme verificamos acima ao digitarmos penguim.info(),\n",
    "#as únicas colunas que não possuem valores nulos são as de\n",
    "#species(espécies) e island(ilhas), que são valores categóricos.\n",
    "#vamos excluir as linhas com valores NaN, utilizando o mesmo DataFrame\n",
    "\n",
    "penguim = penguim.dropna()"
   ]
  },
  {
   "cell_type": "code",
   "execution_count": null,
   "metadata": {},
   "outputs": [],
   "source": [
    "#notamos que antes tinham 344 linhas e agora só 333 não-nulas.\n",
    "penguim.info()"
   ]
  },
  {
   "cell_type": "markdown",
   "metadata": {
    "id": "9YtwYCuk8SPU"
   },
   "source": [
    "### **2.2. Variáveis numéricas** "
   ]
  },
  {
   "cell_type": "markdown",
   "metadata": {
    "id": "7tIjNOs8q6aZ"
   },
   "source": [
    "Identifique as variáveis numéricas e crie uma nova coluna **padronizando** seus valores. A nova coluna deve ter o mesmo nome da coluna original acrescida de \"*_std*\"."
   ]
  },
  {
   "cell_type": "markdown",
   "metadata": {
    "id": "QchO_rKR8tyx"
   },
   "source": [
    "> **Nota**: Você não deve tratar a variável resposta."
   ]
  },
  {
   "cell_type": "code",
   "execution_count": null,
   "metadata": {
    "executionInfo": {
     "elapsed": 28,
     "status": "ok",
     "timestamp": 1635413825402,
     "user": {
      "displayName": "André Perez",
      "photoUrl": "https://lh3.googleusercontent.com/a-/AOh14GgoayC-muwENHZsZgJoTefYOOFuinlFq8iuxKVmBQ=s64",
      "userId": "07697752321927912595"
     },
     "user_tz": -120
    },
    "id": "IwTTh4VKkdKN"
   },
   "outputs": [],
   "source": [
    "#variáveis numéricas identificadas, excluindo a variável resposta\n",
    "colunas_padronizadas = ['bill_length_mm', 'bill_depth_mm', 'flipper_length_mm']\n",
    "\n",
    "#criando colunas padronizadas com o mesmo nome + '_std'\n",
    "for coluna in colunas_padronizadas:\n",
    "    penguim[f\"{coluna}_std\"] = (penguim[coluna] - penguim[coluna].mean()) / penguim[coluna].std()\n",
    "\n",
    "print(penguim.info())"
   ]
  },
  {
   "cell_type": "markdown",
   "metadata": {
    "id": "TTh7w8rgkznY"
   },
   "source": [
    "### **2.3. Variáveis categóricas** "
   ]
  },
  {
   "cell_type": "markdown",
   "metadata": {
    "id": "clBerimQs2PY"
   },
   "source": [
    "Identifique as variáveis categóricas nominais e ordinais, crie uma nova coluna aplicando a técnica correta de conversão a seus valores. A nova coluna deve ter o mesmo nome da coluna original acrescidade de \"*_nom*\" ou \"*_ord*\"."
   ]
  },
  {
   "cell_type": "markdown",
   "metadata": {
    "id": "BqpAVY109BWA"
   },
   "source": [
    "> **Nota**: Você não deve tratar a variável resposta."
   ]
  },
  {
   "cell_type": "markdown",
   "metadata": {},
   "source": [
    "Para lidar com variáveis categóricas (nominais), uma abordagem comum é codificar essas variáveis em representações numéricas que podem ser usadas em modelos de machine learning. Isso pode ser feito usando one-hot encoding ou label encoding, dependendo da necessidade."
   ]
  },
  {
   "cell_type": "code",
   "execution_count": null,
   "metadata": {
    "executionInfo": {
     "elapsed": 27,
     "status": "ok",
     "timestamp": 1635413825403,
     "user": {
      "displayName": "André Perez",
      "photoUrl": "https://lh3.googleusercontent.com/a-/AOh14GgoayC-muwENHZsZgJoTefYOOFuinlFq8iuxKVmBQ=s64",
      "userId": "07697752321927912595"
     },
     "user_tz": -120
    },
    "id": "fohdVuLzkdKP"
   },
   "outputs": [],
   "source": [
    "# usando a tecnica de codificacao chamada 'one hot encoding'.\n",
    "penguim['sex_m_nom'] = penguim['sex'].apply(lambda sex: 1 if sex == 'Male' else 0)\n",
    "penguim['sex_f_nom'] = penguim['sex'].apply(lambda sex: 1 if sex == 'Female' else 0)"
   ]
  },
  {
   "cell_type": "code",
   "execution_count": null,
   "metadata": {},
   "outputs": [],
   "source": [
    "# tratando os dados da coluna \"Island\"\n",
    "penguim[\"island\"].drop_duplicates()"
   ]
  },
  {
   "cell_type": "code",
   "execution_count": null,
   "metadata": {},
   "outputs": [],
   "source": [
    "# tratando os dados da coluna \"Species\"\n",
    "penguim[\"species\"].drop_duplicates()"
   ]
  },
  {
   "cell_type": "code",
   "execution_count": null,
   "metadata": {},
   "outputs": [],
   "source": [
    "penguim[\"species_adelie\"] = penguim[\"species\"].apply(lambda especie: 1 if especie == \"Adelie\" else 0)\n",
    "penguim[\"species_chinstrap\"] = penguim[\"species\"].apply(lambda especie: 1 if especie == \"Chinstrap\" else 0)\n",
    "penguim[\"species_gentoo\"] = penguim[\"species\"].apply(lambda especie: 1 if especie == \"Gentoo\" else 0)"
   ]
  },
  {
   "cell_type": "code",
   "execution_count": null,
   "metadata": {},
   "outputs": [],
   "source": [
    "penguim[\"island_torgesen\"] = penguim[\"island\"].apply(lambda ilha: 1 if ilha == \"Torgersen\" else 0)\n",
    "penguim[\"island_biscoe\"] = penguim[\"island\"].apply(lambda ilha: 1 if ilha == \"Biscoe\" else 0)\n",
    "penguim[\"island_dream\"] = penguim[\"island\"].apply(lambda ilha: 1 if ilha == \"Dream\" else 0)"
   ]
  },
  {
   "cell_type": "markdown",
   "metadata": {
    "id": "AvkcQD9E9DGE"
   },
   "source": [
    "### **2.4. Limpeza** "
   ]
  },
  {
   "cell_type": "markdown",
   "metadata": {
    "id": "D03kCy8-9DGE"
   },
   "source": [
    "Descarte as colunas originais e mantenha apenas a variável resposta e as variáveis preditivas com o sufixo *_std*\", *_nom*\" e \"*_ord*\". "
   ]
  },
  {
   "cell_type": "code",
   "execution_count": 43,
   "metadata": {
    "executionInfo": {
     "elapsed": 26,
     "status": "ok",
     "timestamp": 1635413825404,
     "user": {
      "displayName": "André Perez",
      "photoUrl": "https://lh3.googleusercontent.com/a-/AOh14GgoayC-muwENHZsZgJoTefYOOFuinlFq8iuxKVmBQ=s64",
      "userId": "07697752321927912595"
     },
     "user_tz": -120
    },
    "id": "TuEOO6009DGE"
   },
   "outputs": [],
   "source": [
    "data = penguim.drop([\"island\",\"bill_length_mm\", \"bill_depth_mm\", \"flipper_length_mm\", \"species\", \"sex\"], axis=1)"
   ]
  },
  {
   "cell_type": "code",
   "execution_count": null,
   "metadata": {},
   "outputs": [],
   "source": [
    "data.head()"
   ]
  },
  {
   "cell_type": "markdown",
   "metadata": {
    "id": "p42G0OvRMFVq"
   },
   "source": [
    "### **2.5. Treino/Teste** "
   ]
  },
  {
   "cell_type": "markdown",
   "metadata": {
    "id": "WHyuv-4cMFVr"
   },
   "source": [
    "Separe a base de dados em treino e teste utilizando uma proporção de 2/3 para treino e 1/3 para testes. "
   ]
  },
  {
   "cell_type": "code",
   "execution_count": null,
   "metadata": {
    "executionInfo": {
     "elapsed": 26,
     "status": "ok",
     "timestamp": 1635413825405,
     "user": {
      "displayName": "André Perez",
      "photoUrl": "https://lh3.googleusercontent.com/a-/AOh14GgoayC-muwENHZsZgJoTefYOOFuinlFq8iuxKVmBQ=s64",
      "userId": "07697752321927912595"
     },
     "user_tz": -120
    },
    "id": "8Rbj-tBMMFVr"
   },
   "outputs": [],
   "source": [
    "from sklearn.model_selection import train_test_split\n",
    "predictors_train, predictors_test, target_train, target_test = train_test_split(\n",
    "    data.drop(['body_mass_g'], axis=1),\n",
    "    data['body_mass_g'],\n",
    "    test_size=0.25,\n",
    "    random_state=123\n",
    ")"
   ]
  },
  {
   "cell_type": "markdown",
   "metadata": {},
   "source": [
    "## Variáveis preditoras (predictors)"
   ]
  },
  {
   "cell_type": "code",
   "execution_count": null,
   "metadata": {},
   "outputs": [],
   "source": [
    "predictors_train.head()"
   ]
  },
  {
   "cell_type": "code",
   "execution_count": null,
   "metadata": {},
   "outputs": [],
   "source": [
    "predictors_train.shape"
   ]
  },
  {
   "cell_type": "code",
   "execution_count": null,
   "metadata": {},
   "outputs": [],
   "source": [
    "predictors_test.head()"
   ]
  },
  {
   "cell_type": "code",
   "execution_count": null,
   "metadata": {},
   "outputs": [],
   "source": [
    "predictors_test.shape"
   ]
  },
  {
   "cell_type": "markdown",
   "metadata": {},
   "source": [
    "## Variável resposta (target)"
   ]
  },
  {
   "cell_type": "code",
   "execution_count": null,
   "metadata": {},
   "outputs": [],
   "source": [
    "target_train.head()"
   ]
  },
  {
   "cell_type": "code",
   "execution_count": null,
   "metadata": {},
   "outputs": [],
   "source": [
    "target_train.shape"
   ]
  },
  {
   "cell_type": "code",
   "execution_count": null,
   "metadata": {},
   "outputs": [],
   "source": [
    "target_test.head()"
   ]
  },
  {
   "cell_type": "code",
   "execution_count": null,
   "metadata": {},
   "outputs": [],
   "source": [
    "target_test.shape"
   ]
  },
  {
   "cell_type": "markdown",
   "metadata": {
    "id": "yBRWrgn1L8dR"
   },
   "source": [
    "## 3\\. Modelagem "
   ]
  },
  {
   "cell_type": "markdown",
   "metadata": {
    "id": "mJMHdFTQL2LS"
   },
   "source": [
    "### **3.1. Treino** "
   ]
  },
  {
   "cell_type": "markdown",
   "metadata": {
    "id": "3la9bf31L2LT"
   },
   "source": [
    "Treine um modelo de **regressão linear** com os **dados de treino** (2/3)."
   ]
  },
  {
   "cell_type": "markdown",
   "metadata": {},
   "source": [
    "### Peso predito"
   ]
  },
  {
   "cell_type": "code",
   "execution_count": 27,
   "metadata": {
    "executionInfo": {
     "elapsed": 26,
     "status": "ok",
     "timestamp": 1635413825406,
     "user": {
      "displayName": "André Perez",
      "photoUrl": "https://lh3.googleusercontent.com/a-/AOh14GgoayC-muwENHZsZgJoTefYOOFuinlFq8iuxKVmBQ=s64",
      "userId": "07697752321927912595"
     },
     "user_tz": -120
    },
    "id": "gXVuVyJzL2LU"
   },
   "outputs": [],
   "source": [
    "model = model.fit(predictors_train, target_train)"
   ]
  },
  {
   "cell_type": "code",
   "execution_count": 28,
   "metadata": {},
   "outputs": [],
   "source": [
    "target_predicted = model.predict(predictors_test)"
   ]
  },
  {
   "cell_type": "code",
   "execution_count": null,
   "metadata": {},
   "outputs": [],
   "source": [
    "target_predicted[0:5]"
   ]
  },
  {
   "cell_type": "code",
   "execution_count": null,
   "metadata": {},
   "outputs": [],
   "source": [
    "target_predicted.shape"
   ]
  },
  {
   "cell_type": "markdown",
   "metadata": {},
   "source": [
    "### Peso teste"
   ]
  },
  {
   "cell_type": "code",
   "execution_count": null,
   "metadata": {},
   "outputs": [],
   "source": [
    "target_test[0:5]"
   ]
  },
  {
   "cell_type": "code",
   "execution_count": null,
   "metadata": {},
   "outputs": [],
   "source": [
    "target_test.shape"
   ]
  },
  {
   "cell_type": "markdown",
   "metadata": {
    "id": "KysDfb74Mav_"
   },
   "source": [
    "### **3.2. Avaliação** "
   ]
  },
  {
   "cell_type": "markdown",
   "metadata": {
    "id": "AGPKGSpFMawA"
   },
   "source": [
    "Calcule o **RMSE** para o modelo de **regressão linear** treinado com os **dados de teste** (1/3)."
   ]
  },
  {
   "cell_type": "code",
   "execution_count": null,
   "metadata": {
    "executionInfo": {
     "elapsed": 25,
     "status": "ok",
     "timestamp": 1635413825408,
     "user": {
      "displayName": "André Perez",
      "photoUrl": "https://lh3.googleusercontent.com/a-/AOh14GgoayC-muwENHZsZgJoTefYOOFuinlFq8iuxKVmBQ=s64",
      "userId": "07697752321927912595"
     },
     "user_tz": -120
    },
    "id": "01FCw7iEMawB"
   },
   "outputs": [],
   "source": [
    "rmse = np.sqrt(mean_squared_error(target_test, target_predicted))\n",
    "print(rmse)"
   ]
  },
  {
   "cell_type": "markdown",
   "metadata": {
    "id": "f2G0LAZ1Mfrk"
   },
   "source": [
    "## 4\\. Predição  "
   ]
  },
  {
   "cell_type": "markdown",
   "metadata": {
    "id": "71EeKkThMnbD"
   },
   "source": [
    "### **4.1. Novo penguim** "
   ]
  },
  {
   "cell_type": "markdown",
   "metadata": {
    "id": "JZfFc-OyMfrm"
   },
   "source": [
    "Qual o peso de um penguim com as seguintes características:\n"
   ]
  },
  {
   "cell_type": "markdown",
   "metadata": {
    "id": "P0Q-QJ-CM099"
   },
   "source": [
    "| species\t| island | bill_length_mm | bill_depth_mm | flipper_length_mm | sex |\n",
    "| --- | --- | --- | --- | --- | --- |\n",
    "| Adelie | Biscoe | 38.2 | 18.1 | 185.0 | Male |"
   ]
  },
  {
   "cell_type": "markdown",
   "metadata": {
    "id": "IbUFEJGGNBpD"
   },
   "source": [
    "> **Atenção:** Lembre-se de pre-processar os atributos assim como nos exercício 2.2 e 2.3"
   ]
  },
  {
   "cell_type": "markdown",
   "metadata": {
    "id": "BUiRiNDgWS6B"
   },
   "source": [
    "> **Nota:** Como referência eu obtive um peso predito de 3786.16g (a sua predição pode não ser igual)."
   ]
  },
  {
   "cell_type": "code",
   "execution_count": 34,
   "metadata": {},
   "outputs": [],
   "source": [
    "#carregando os dados originais novamente para tratá-los\n",
    "penguim = sns.load_dataset('penguins')\n",
    "#excluindo valores nulos\n",
    "penguim.dropna(inplace=True)\n",
    "#excluindo a variável resposta\n",
    "penguim.drop(columns=['body_mass_g'], inplace=True)"
   ]
  },
  {
   "cell_type": "code",
   "execution_count": 35,
   "metadata": {},
   "outputs": [],
   "source": [
    "#carregando um novo DataFrame com os dados fornecidos\n",
    "penguim_predicao = {\n",
    "    'species': ['Adelie'],\n",
    "    'island': ['Biscoe'],\n",
    "    'bill_length_mm': [38.2],\n",
    "    'bill_depth_mm': [18.1],\n",
    "    'flipper_length_mm': [185],\n",
    "    'sex': ['Male']\n",
    "}\n",
    "#fazendo uma concatenação entre o DataFrame original e o novo DataFrame\n",
    "penguim_predict = pd.DataFrame(penguim_predicao)\n",
    "penguim = pd.concat([penguim_predict, penguim], ignore_index=True)"
   ]
  },
  {
   "cell_type": "markdown",
   "metadata": {},
   "source": [
    "#### Após executar até o código acima, repetir os códigos executados nos itens 2.2, 2.3 e 2.4 e depois executar o código abaixo"
   ]
  },
  {
   "cell_type": "code",
   "execution_count": null,
   "metadata": {},
   "outputs": [],
   "source": [
    "#predição\n",
    "penguim_mass = model.predict(data)\n",
    "print(penguim_mass)"
   ]
  },
  {
   "cell_type": "markdown",
   "metadata": {
    "id": "waxn4B2UDHyl"
   },
   "source": [
    "---"
   ]
  }
 ],
 "metadata": {
  "colab": {
   "collapsed_sections": [],
   "name": "modulo_24_exercicio.ipynb",
   "provenance": [],
   "toc_visible": true
  },
  "kernelspec": {
   "display_name": "Python 3",
   "name": "python3"
  },
  "language_info": {
   "codemirror_mode": {
    "name": "ipython",
    "version": 3
   },
   "file_extension": ".py",
   "mimetype": "text/x-python",
   "name": "python",
   "nbconvert_exporter": "python",
   "pygments_lexer": "ipython3",
   "version": "3.12.3"
  }
 },
 "nbformat": 4,
 "nbformat_minor": 0
}
